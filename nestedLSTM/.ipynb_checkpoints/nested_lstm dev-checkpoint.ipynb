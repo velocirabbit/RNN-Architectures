{
 "cells": [
  {
   "cell_type": "code",
   "execution_count": 1,
   "metadata": {},
   "outputs": [],
   "source": [
    "import numpy as np\n",
    "import torch \n",
    "import torch.nn as nn\n",
    "\n",
    "from torch.autograd import Variable\n",
    "from nested_lstm import NestedLSTMCell"
   ]
  },
  {
   "cell_type": "code",
   "execution_count": 2,
   "metadata": {},
   "outputs": [],
   "source": [
    "nbatches = 3\n",
    "seq_len = 6\n",
    "input = Variable(torch.randn(seq_len, nbatches, 10))\n",
    "hx = Variable(torch.randn(nbatches, 20))\n",
    "cx = Variable(torch.randn(nbatches, 20))\n",
    "dx = Variable(torch.randn(nbatches, 20))\n",
    "sx = Variable(torch.randn(nbatches, 20))"
   ]
  },
  {
   "cell_type": "code",
   "execution_count": 3,
   "metadata": {},
   "outputs": [],
   "source": [
    "# Nested LSTM cell with a classical LSTM inside\n",
    "nlstm_1 = NestedLSTMCell(10, 20, state_fn = nn.LSTMCell(20, 20))\n",
    "output1 = []\n",
    "for i in range(seq_len):\n",
    "    hx, cx, sx = nlstm_1(input[i], (hx, cx, sx))\n",
    "    output1.append(hx)"
   ]
  },
  {
   "cell_type": "code",
   "execution_count": 4,
   "metadata": {},
   "outputs": [],
   "source": [
    "# Nested LSTM cell with an nLSTM with an LSTM inside\n",
    "nlstm_2 = NestedLSTMCell(\n",
    "    10, 20, state_fn = NestedLSTMCell(\n",
    "        20, 20, state_fn = nn.LSTMCell(20, 20),\n",
    "        identity_fn = True\n",
    "    )\n",
    ")\n",
    "output2 = []\n",
    "for i in range(seq_len):\n",
    "    hx, cx, (dx, sx) = nlstm_2(input[i], (hx, cx, (dx, sx)))\n",
    "    output2.append(hx)"
   ]
  },
  {
   "cell_type": "code",
   "execution_count": 5,
   "metadata": {},
   "outputs": [],
   "source": [
    "a = nlstm_2(input[1], (hx, cx, (dx, sx)))"
   ]
  },
  {
   "cell_type": "code",
   "execution_count": 6,
   "metadata": {},
   "outputs": [
    {
     "data": {
      "text/plain": [
       "8"
      ]
     },
     "execution_count": 6,
     "metadata": {},
     "output_type": "execute_result"
    }
   ],
   "source": [
    "xx = list(nlstm_1.parameters())\n",
    "len(xx)"
   ]
  },
  {
   "cell_type": "code",
   "execution_count": 7,
   "metadata": {},
   "outputs": [
    {
     "data": {
      "text/plain": [
       "torch.Size([8, 7])"
      ]
     },
     "execution_count": 7,
     "metadata": {},
     "output_type": "execute_result"
    }
   ],
   "source": [
    "x = torch.from_numpy(np.random.random((4, 8, 7)))\n",
    "x[1,:,:].size()"
   ]
  },
  {
   "cell_type": "code",
   "execution_count": 8,
   "metadata": {},
   "outputs": [
    {
     "data": {
      "text/plain": [
       "torch.Size([4, 8, 7])"
      ]
     },
     "execution_count": 8,
     "metadata": {},
     "output_type": "execute_result"
    }
   ],
   "source": [
    "x.size()"
   ]
  },
  {
   "cell_type": "code",
   "execution_count": 9,
   "metadata": {},
   "outputs": [
    {
     "data": {
      "text/plain": [
       "(list, torch.Size([2, 8, 7]))"
      ]
     },
     "execution_count": 9,
     "metadata": {},
     "output_type": "execute_result"
    }
   ],
   "source": [
    "xc = [chunk.squeeze() for chunk in x.chunk(n_chunks = 2, dim = 0)]\n",
    "type(xc), xc[0].size()"
   ]
  },
  {
   "cell_type": "code",
   "execution_count": 10,
   "metadata": {},
   "outputs": [
    {
     "data": {
      "text/plain": [
       "\n",
       "(0 ,.,.) = \n",
       "  0.5502  0.0253  0.0453  0.3986  0.9722  0.7115  0.1559\n",
       "\n",
       "(1 ,.,.) = \n",
       "  0.9407  0.3512  0.0013  0.4038  0.8502  0.1400  0.0903\n",
       "[torch.DoubleTensor of size 2x1x7]"
      ]
     },
     "execution_count": 10,
     "metadata": {},
     "output_type": "execute_result"
    }
   ],
   "source": [
    "xc[0].index_select(dim = 1, index = torch.LongTensor([3]))"
   ]
  },
  {
   "cell_type": "code",
   "execution_count": 11,
   "metadata": {},
   "outputs": [],
   "source": [
    "from nested_lstm import NestedLSTM"
   ]
  },
  {
   "cell_type": "code",
   "execution_count": null,
   "metadata": {},
   "outputs": [],
   "source": []
  }
 ],
 "metadata": {
  "kernelspec": {
   "display_name": "Python 3",
   "language": "python",
   "name": "python3"
  },
  "language_info": {
   "codemirror_mode": {
    "name": "ipython",
    "version": 3
   },
   "file_extension": ".py",
   "mimetype": "text/x-python",
   "name": "python",
   "nbconvert_exporter": "python",
   "pygments_lexer": "ipython3",
   "version": "3.6.4"
  }
 },
 "nbformat": 4,
 "nbformat_minor": 2
}
