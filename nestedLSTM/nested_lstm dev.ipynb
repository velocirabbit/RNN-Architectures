{
 "cells": [
  {
   "cell_type": "code",
   "execution_count": 1,
   "metadata": {},
   "outputs": [],
   "source": [
    "import torch \n",
    "import torch.nn as nn\n",
    "\n",
    "from torch.autograd import Variable\n",
    "from nested_lstm import NestedLSTMCell"
   ]
  },
  {
   "cell_type": "code",
   "execution_count": 2,
   "metadata": {},
   "outputs": [],
   "source": [
    "nbatches = 3\n",
    "seq_len = 6\n",
    "input = Variable(torch.randn(seq_len, nbatches, 10))\n",
    "hx = Variable(torch.randn(nbatches, 20))\n",
    "cx = Variable(torch.randn(nbatches, 20))\n",
    "dx = Variable(torch.randn(nbatches, 20))\n",
    "sx = Variable(torch.randn(nbatches, 20))"
   ]
  },
  {
   "cell_type": "code",
   "execution_count": 3,
   "metadata": {},
   "outputs": [],
   "source": [
    "# Nested LSTM cell with a classical LSTM inside\n",
    "nlstm_1 = NestedLSTMCell(10, 20, state_fn = nn.LSTMCell(20, 20))\n",
    "output1 = []\n",
    "for i in range(seq_len):\n",
    "    hx, cx, sx = nlstm_1(input[i], (hx, cx, sx))\n",
    "    output1.append(hx)"
   ]
  },
  {
   "cell_type": "code",
   "execution_count": 16,
   "metadata": {},
   "outputs": [],
   "source": [
    "# Nested LSTM cell with an nLSTM with an LSTM inside\n",
    "nlstm_2 = NestedLSTMCell(\n",
    "    10, 20, state_fn = NestedLSTMCell(\n",
    "        20, 20, state_fn = nn.LSTMCell(20, 20),\n",
    "        identity_fn = True\n",
    "    )\n",
    ")\n",
    "output2 = []\n",
    "for i in range(seq_len):\n",
    "    hx, cx, (dx, sx) = nlstm_2(input[i], (hx, cx, (dx, sx)))\n",
    "    output2.append(hx)"
   ]
  },
  {
   "cell_type": "code",
   "execution_count": 17,
   "metadata": {},
   "outputs": [],
   "source": [
    "a = nlstm_2(input[1], (hx, cx, (dx, sx)))"
   ]
  },
  {
   "cell_type": "code",
   "execution_count": null,
   "metadata": {},
   "outputs": [],
   "source": []
  }
 ],
 "metadata": {
  "kernelspec": {
   "display_name": "Python 3",
   "language": "python",
   "name": "python3"
  },
  "language_info": {
   "codemirror_mode": {
    "name": "ipython",
    "version": 3
   },
   "file_extension": ".py",
   "mimetype": "text/x-python",
   "name": "python",
   "nbconvert_exporter": "python",
   "pygments_lexer": "ipython3",
   "version": "3.6.4"
  }
 },
 "nbformat": 4,
 "nbformat_minor": 2
}
